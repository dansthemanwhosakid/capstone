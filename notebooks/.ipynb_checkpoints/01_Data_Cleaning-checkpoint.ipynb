{
 "cells": [
  {
   "cell_type": "markdown",
   "metadata": {},
   "source": [
    "# Notebook 1: Data Cleaning\n",
    "\n",
    "In order to build a movie character recommendation system, I will gather and merge two datasets: one from the [Cornell Movie Dialogs Corpus](https://www.cs.cornell.edu/~cristian/Cornell_Movie-Dialogs_Corpus.html) and the other from the [Cornell Movie Quotes Corpus](http://www.cs.cornell.edu/~cristian/memorability.html). Both datasets contain information about the movie title, the characters, genres, and the movie lines. "
   ]
  },
  {
   "cell_type": "code",
   "execution_count": 1,
   "metadata": {},
   "outputs": [],
   "source": [
    "import pandas as pd\n",
    "import re\n",
    "import os\n",
    "import pandas as pd\n",
    "import numpy as np\n",
    "import pickle\n",
    "from sklearn.feature_extraction.text import CountVectorizer\n",
    "from nltk.corpus import stopwords\n",
    "from nltk.stem import WordNetLemmatizer\n",
    "from nltk.tokenize import RegexpTokenizer\n",
    "from vaderSentiment.vaderSentiment import SentimentIntensityAnalyzer"
   ]
  },
  {
   "cell_type": "markdown",
   "metadata": {},
   "source": [
    "## Cleaning Movie Dialogs Corpus\n",
    "\n",
    "The movie dialogs corpus is split into 3 csv files, `movie_lines.csv`, `char_data.csv`, and `movie_metadata.csv`.\n",
    "\n",
    "The `movie_lines.csv` file has the character name, their lines, and the movie id that they are associated with.\n",
    "\n",
    "The `char_data.csv` contains the character names and the movie name, so `movie_lines.csv` will be merged with `char_data.csv` to have a comprehensive dataframe that contains the movie title, characters, and their lines."
   ]
  },
  {
   "cell_type": "markdown",
   "metadata": {},
   "source": [
    "#### **Examining and Cleaning the `movie_lines.csv`:**"
   ]
  },
  {
   "cell_type": "code",
   "execution_count": 2,
   "metadata": {},
   "outputs": [
    {
     "data": {
      "text/html": [
       "<div>\n",
       "<style scoped>\n",
       "    .dataframe tbody tr th:only-of-type {\n",
       "        vertical-align: middle;\n",
       "    }\n",
       "\n",
       "    .dataframe tbody tr th {\n",
       "        vertical-align: top;\n",
       "    }\n",
       "\n",
       "    .dataframe thead th {\n",
       "        text-align: right;\n",
       "    }\n",
       "</style>\n",
       "<table border=\"1\" class=\"dataframe\">\n",
       "  <thead>\n",
       "    <tr style=\"text-align: right;\">\n",
       "      <th></th>\n",
       "      <th>lineID</th>\n",
       "      <th>charID</th>\n",
       "      <th>movieID</th>\n",
       "      <th>charName</th>\n",
       "      <th>line</th>\n",
       "      <th>Unnamed: 5</th>\n",
       "      <th>Unnamed: 6</th>\n",
       "    </tr>\n",
       "  </thead>\n",
       "  <tbody>\n",
       "    <tr>\n",
       "      <th>0</th>\n",
       "      <td>L1045</td>\n",
       "      <td>u0</td>\n",
       "      <td>m0</td>\n",
       "      <td>BIANCA</td>\n",
       "      <td>They do not!</td>\n",
       "      <td>NaN</td>\n",
       "      <td>NaN</td>\n",
       "    </tr>\n",
       "    <tr>\n",
       "      <th>1</th>\n",
       "      <td>L1044</td>\n",
       "      <td>u2</td>\n",
       "      <td>m0</td>\n",
       "      <td>zz</td>\n",
       "      <td>They do to!</td>\n",
       "      <td>NaN</td>\n",
       "      <td>NaN</td>\n",
       "    </tr>\n",
       "    <tr>\n",
       "      <th>2</th>\n",
       "      <td>L985</td>\n",
       "      <td>u0</td>\n",
       "      <td>m0</td>\n",
       "      <td>BIANCA</td>\n",
       "      <td>I hope so.</td>\n",
       "      <td>NaN</td>\n",
       "      <td>NaN</td>\n",
       "    </tr>\n",
       "    <tr>\n",
       "      <th>3</th>\n",
       "      <td>L984</td>\n",
       "      <td>u2</td>\n",
       "      <td>m0</td>\n",
       "      <td>CAMERON</td>\n",
       "      <td>She okay?</td>\n",
       "      <td>NaN</td>\n",
       "      <td>NaN</td>\n",
       "    </tr>\n",
       "    <tr>\n",
       "      <th>4</th>\n",
       "      <td>L925</td>\n",
       "      <td>u0</td>\n",
       "      <td>m0</td>\n",
       "      <td>BIANCA</td>\n",
       "      <td>Let's go.</td>\n",
       "      <td>NaN</td>\n",
       "      <td>NaN</td>\n",
       "    </tr>\n",
       "  </tbody>\n",
       "</table>\n",
       "</div>"
      ],
      "text/plain": [
       "   lineID charID movieID   charName           line Unnamed: 5  Unnamed: 6\n",
       "0  L1045     u0      m0     BIANCA    They do not!        NaN         NaN\n",
       "1  L1044     u2      m0          zz    They do to!        NaN         NaN\n",
       "2   L985     u0      m0     BIANCA      I hope so.        NaN         NaN\n",
       "3   L984     u2      m0    CAMERON       She okay?        NaN         NaN\n",
       "4   L925     u0      m0     BIANCA       Let's go.        NaN         NaN"
      ]
     },
     "execution_count": 2,
     "metadata": {},
     "output_type": "execute_result"
    }
   ],
   "source": [
    "mov_line = pd.read_csv('../data/movie_lines.csv')\n",
    "mov_line.head()"
   ]
  },
  {
   "cell_type": "markdown",
   "metadata": {},
   "source": [
    "The `movie_lines.csv` has 65499 unique movie lines."
   ]
  },
  {
   "cell_type": "code",
   "execution_count": 3,
   "metadata": {},
   "outputs": [
    {
     "name": "stdout",
     "output_type": "stream",
     "text": [
      "True\n",
      "(65499, 7)\n"
     ]
    }
   ],
   "source": [
    "print(len(mov_line) == len(mov_line['lineID'].unique()))\n",
    "print(mov_line.shape)"
   ]
  },
  {
   "cell_type": "markdown",
   "metadata": {},
   "source": [
    "Checking for null values:"
   ]
  },
  {
   "cell_type": "code",
   "execution_count": 4,
   "metadata": {},
   "outputs": [
    {
     "data": {
      "text/plain": [
       "lineID            0\n",
       "charID            0\n",
       "movieID           0\n",
       "charName          0\n",
       "line              0\n",
       "Unnamed: 5    65489\n",
       "Unnamed: 6    65498\n",
       "dtype: int64"
      ]
     },
     "execution_count": 4,
     "metadata": {},
     "output_type": "execute_result"
    }
   ],
   "source": [
    "mov_line.isnull().sum()"
   ]
  },
  {
   "cell_type": "code",
   "execution_count": 5,
   "metadata": {},
   "outputs": [
    {
     "data": {
      "text/html": [
       "<div>\n",
       "<style scoped>\n",
       "    .dataframe tbody tr th:only-of-type {\n",
       "        vertical-align: middle;\n",
       "    }\n",
       "\n",
       "    .dataframe tbody tr th {\n",
       "        vertical-align: top;\n",
       "    }\n",
       "\n",
       "    .dataframe thead th {\n",
       "        text-align: right;\n",
       "    }\n",
       "</style>\n",
       "<table border=\"1\" class=\"dataframe\">\n",
       "  <thead>\n",
       "    <tr style=\"text-align: right;\">\n",
       "      <th></th>\n",
       "      <th>lineID</th>\n",
       "      <th>charID</th>\n",
       "      <th>movieID</th>\n",
       "      <th>charName</th>\n",
       "      <th>line</th>\n",
       "      <th>Unnamed: 5</th>\n",
       "      <th>Unnamed: 6</th>\n",
       "    </tr>\n",
       "  </thead>\n",
       "  <tbody>\n",
       "    <tr>\n",
       "      <th>3214</th>\n",
       "      <td>L6723</td>\n",
       "      <td>u114</td>\n",
       "      <td>m6</td>\n",
       "      <td>WELLES</td>\n",
       "      <td>A weirdo making S</td>\n",
       "      <td>M films?  Who'd have thought it?</td>\n",
       "      <td>NaN</td>\n",
       "    </tr>\n",
       "    <tr>\n",
       "      <th>3215</th>\n",
       "      <td>L6722</td>\n",
       "      <td>u108</td>\n",
       "      <td>m6</td>\n",
       "      <td>MAX</td>\n",
       "      <td>Dino Velvet... yeah, he's like the John Luc G...</td>\n",
       "      <td>M flicks, supposed to be a real weirdo.</td>\n",
       "      <td>NaN</td>\n",
       "    </tr>\n",
       "    <tr>\n",
       "      <th>3235</th>\n",
       "      <td>L6618</td>\n",
       "      <td>u108</td>\n",
       "      <td>m6</td>\n",
       "      <td>MAX</td>\n",
       "      <td>There's two kinds of specialty product; legal...</td>\n",
       "      <td>M and bondage films, they straddle the line.  ...</td>\n",
       "      <td>NaN</td>\n",
       "    </tr>\n",
       "    <tr>\n",
       "      <th>32773</th>\n",
       "      <td>L229891</td>\n",
       "      <td>u1036</td>\n",
       "      <td>m68</td>\n",
       "      <td>ALEXANDER</td>\n",
       "      <td>By Grabthar's Hammer, this is true. 159</td>\n",
       "      <td>NT. LIVING ROOM - SOMEWHERE - NIGHT</td>\n",
       "      <td>159.0</td>\n",
       "    </tr>\n",
       "    <tr>\n",
       "      <th>32836</th>\n",
       "      <td>L229706</td>\n",
       "      <td>u1042</td>\n",
       "      <td>m68</td>\n",
       "      <td>JASON</td>\n",
       "      <td>BRANDON!</td>\n",
       "      <td>TIME TO GO!</td>\n",
       "      <td>NaN</td>\n",
       "    </tr>\n",
       "    <tr>\n",
       "      <th>32875</th>\n",
       "      <td>L229857</td>\n",
       "      <td>u1041</td>\n",
       "      <td>m68</td>\n",
       "      <td>GWEN</td>\n",
       "      <td>All systems are working, Commander. ,~ -cc</td>\n",
       "      <td>PINK) -' C -</td>\n",
       "      <td>NaN</td>\n",
       "    </tr>\n",
       "    <tr>\n",
       "      <th>33068</th>\n",
       "      <td>L229881</td>\n",
       "      <td>u1049</td>\n",
       "      <td>m68</td>\n",
       "      <td>TOMMY</td>\n",
       "      <td>I see them!  I see them! RD STREET</td>\n",
       "      <td>PASADENA 57</td>\n",
       "      <td>NaN</td>\n",
       "    </tr>\n",
       "    <tr>\n",
       "      <th>33070</th>\n",
       "      <td>L229801</td>\n",
       "      <td>u1041</td>\n",
       "      <td>m68</td>\n",
       "      <td>GWEN</td>\n",
       "      <td>What are you doing? What are thev doino? ~7C ...</td>\n",
       "      <td>h37C</td>\n",
       "      <td>NaN</td>\n",
       "    </tr>\n",
       "    <tr>\n",
       "      <th>36206</th>\n",
       "      <td>L237881</td>\n",
       "      <td>u1117</td>\n",
       "      <td>m73</td>\n",
       "      <td>REDBEARD</td>\n",
       "      <td>It would have been a beautiful bridge, John. ...</td>\n",
       "      <td>suppose...  ...never really pay much attention...</td>\n",
       "      <td>NaN</td>\n",
       "    </tr>\n",
       "    <tr>\n",
       "      <th>65374</th>\n",
       "      <td>L381472</td>\n",
       "      <td>u1914</td>\n",
       "      <td>m125</td>\n",
       "      <td>ZED'S VOICE</td>\n",
       "      <td>We've got about eight or nine prospects</td>\n",
       "      <td>I want you look--</td>\n",
       "      <td>NaN</td>\n",
       "    </tr>\n",
       "  </tbody>\n",
       "</table>\n",
       "</div>"
      ],
      "text/plain": [
       "         lineID   charID movieID       charName  \\\n",
       "3214     L6723     u114      m6         WELLES    \n",
       "3215     L6722     u108      m6            MAX    \n",
       "3235     L6618     u108      m6            MAX    \n",
       "32773  L229891    u1036     m68      ALEXANDER    \n",
       "32836  L229706    u1042     m68          JASON    \n",
       "32875  L229857    u1041     m68           GWEN    \n",
       "33068  L229881    u1049     m68          TOMMY    \n",
       "33070  L229801    u1041     m68           GWEN    \n",
       "36206  L237881    u1117     m73       REDBEARD    \n",
       "65374  L381472    u1914    m125    ZED'S VOICE    \n",
       "\n",
       "                                                    line  \\\n",
       "3214                                   A weirdo making S   \n",
       "3215    Dino Velvet... yeah, he's like the John Luc G...   \n",
       "3235    There's two kinds of specialty product; legal...   \n",
       "32773            By Grabthar's Hammer, this is true. 159   \n",
       "32836                                           BRANDON!   \n",
       "32875         All systems are working, Commander. ,~ -cc   \n",
       "33068                 I see them!  I see them! RD STREET   \n",
       "33070   What are you doing? What are thev doino? ~7C ...   \n",
       "36206   It would have been a beautiful bridge, John. ...   \n",
       "65374            We've got about eight or nine prospects   \n",
       "\n",
       "                                              Unnamed: 5  Unnamed: 6  \n",
       "3214                    M films?  Who'd have thought it?         NaN  \n",
       "3215             M flicks, supposed to be a real weirdo.         NaN  \n",
       "3235   M and bondage films, they straddle the line.  ...         NaN  \n",
       "32773                NT. LIVING ROOM - SOMEWHERE - NIGHT       159.0  \n",
       "32836                                        TIME TO GO!         NaN  \n",
       "32875                                       PINK) -' C -         NaN  \n",
       "33068                                        PASADENA 57         NaN  \n",
       "33070                                               h37C         NaN  \n",
       "36206  suppose...  ...never really pay much attention...         NaN  \n",
       "65374                                  I want you look--         NaN  "
      ]
     },
     "execution_count": 5,
     "metadata": {},
     "output_type": "execute_result"
    }
   ],
   "source": [
    "mov_line[mov_line['Unnamed: 5'].notnull()]"
   ]
  },
  {
   "cell_type": "code",
   "execution_count": 6,
   "metadata": {},
   "outputs": [
    {
     "data": {
      "text/html": [
       "<div>\n",
       "<style scoped>\n",
       "    .dataframe tbody tr th:only-of-type {\n",
       "        vertical-align: middle;\n",
       "    }\n",
       "\n",
       "    .dataframe tbody tr th {\n",
       "        vertical-align: top;\n",
       "    }\n",
       "\n",
       "    .dataframe thead th {\n",
       "        text-align: right;\n",
       "    }\n",
       "</style>\n",
       "<table border=\"1\" class=\"dataframe\">\n",
       "  <thead>\n",
       "    <tr style=\"text-align: right;\">\n",
       "      <th></th>\n",
       "      <th>lineID</th>\n",
       "      <th>charID</th>\n",
       "      <th>movieID</th>\n",
       "      <th>charName</th>\n",
       "      <th>line</th>\n",
       "      <th>Unnamed: 5</th>\n",
       "      <th>Unnamed: 6</th>\n",
       "    </tr>\n",
       "  </thead>\n",
       "  <tbody>\n",
       "    <tr>\n",
       "      <th>32773</th>\n",
       "      <td>L229891</td>\n",
       "      <td>u1036</td>\n",
       "      <td>m68</td>\n",
       "      <td>ALEXANDER</td>\n",
       "      <td>By Grabthar's Hammer, this is true. 159</td>\n",
       "      <td>NT. LIVING ROOM - SOMEWHERE - NIGHT</td>\n",
       "      <td>159.0</td>\n",
       "    </tr>\n",
       "  </tbody>\n",
       "</table>\n",
       "</div>"
      ],
      "text/plain": [
       "         lineID   charID movieID     charName  \\\n",
       "32773  L229891    u1036     m68    ALEXANDER    \n",
       "\n",
       "                                           line  \\\n",
       "32773   By Grabthar's Hammer, this is true. 159   \n",
       "\n",
       "                                Unnamed: 5  Unnamed: 6  \n",
       "32773  NT. LIVING ROOM - SOMEWHERE - NIGHT       159.0  "
      ]
     },
     "execution_count": 6,
     "metadata": {},
     "output_type": "execute_result"
    }
   ],
   "source": [
    "mov_line[mov_line['Unnamed: 6'].notnull()]"
   ]
  },
  {
   "cell_type": "code",
   "execution_count": 7,
   "metadata": {},
   "outputs": [
    {
     "data": {
      "text/plain": [
       "10"
      ]
     },
     "execution_count": 7,
     "metadata": {},
     "output_type": "execute_result"
    }
   ],
   "source": [
    "len(mov_line[mov_line['Unnamed: 5'].notnull()])"
   ]
  },
  {
   "cell_type": "markdown",
   "metadata": {},
   "source": [
    "I am going to drop both `Unnamed: 5` and `Unnamed: 6` columns because they only have 11 non-null values combined, so there is not much importance contained in the columns."
   ]
  },
  {
   "cell_type": "code",
   "execution_count": 8,
   "metadata": {},
   "outputs": [
    {
     "data": {
      "text/html": [
       "<div>\n",
       "<style scoped>\n",
       "    .dataframe tbody tr th:only-of-type {\n",
       "        vertical-align: middle;\n",
       "    }\n",
       "\n",
       "    .dataframe tbody tr th {\n",
       "        vertical-align: top;\n",
       "    }\n",
       "\n",
       "    .dataframe thead th {\n",
       "        text-align: right;\n",
       "    }\n",
       "</style>\n",
       "<table border=\"1\" class=\"dataframe\">\n",
       "  <thead>\n",
       "    <tr style=\"text-align: right;\">\n",
       "      <th></th>\n",
       "      <th>lineID</th>\n",
       "      <th>charID</th>\n",
       "      <th>movieID</th>\n",
       "      <th>charName</th>\n",
       "      <th>line</th>\n",
       "    </tr>\n",
       "  </thead>\n",
       "  <tbody>\n",
       "    <tr>\n",
       "      <th>0</th>\n",
       "      <td>L1045</td>\n",
       "      <td>u0</td>\n",
       "      <td>m0</td>\n",
       "      <td>BIANCA</td>\n",
       "      <td>They do not!</td>\n",
       "    </tr>\n",
       "    <tr>\n",
       "      <th>1</th>\n",
       "      <td>L1044</td>\n",
       "      <td>u2</td>\n",
       "      <td>m0</td>\n",
       "      <td>zz</td>\n",
       "      <td>They do to!</td>\n",
       "    </tr>\n",
       "    <tr>\n",
       "      <th>2</th>\n",
       "      <td>L985</td>\n",
       "      <td>u0</td>\n",
       "      <td>m0</td>\n",
       "      <td>BIANCA</td>\n",
       "      <td>I hope so.</td>\n",
       "    </tr>\n",
       "    <tr>\n",
       "      <th>3</th>\n",
       "      <td>L984</td>\n",
       "      <td>u2</td>\n",
       "      <td>m0</td>\n",
       "      <td>CAMERON</td>\n",
       "      <td>She okay?</td>\n",
       "    </tr>\n",
       "    <tr>\n",
       "      <th>4</th>\n",
       "      <td>L925</td>\n",
       "      <td>u0</td>\n",
       "      <td>m0</td>\n",
       "      <td>BIANCA</td>\n",
       "      <td>Let's go.</td>\n",
       "    </tr>\n",
       "  </tbody>\n",
       "</table>\n",
       "</div>"
      ],
      "text/plain": [
       "   lineID charID movieID   charName           line\n",
       "0  L1045     u0      m0     BIANCA    They do not!\n",
       "1  L1044     u2      m0          zz    They do to!\n",
       "2   L985     u0      m0     BIANCA      I hope so.\n",
       "3   L984     u2      m0    CAMERON       She okay?\n",
       "4   L925     u0      m0     BIANCA       Let's go."
      ]
     },
     "execution_count": 8,
     "metadata": {},
     "output_type": "execute_result"
    }
   ],
   "source": [
    "mov_line = mov_line.drop(['Unnamed: 5', 'Unnamed: 6'],1)\n",
    "mov_line.to_csv('../data/movie_lines_updated.csv', index_label = False)\n",
    "mov_line = pd.read_csv('../data/movie_lines_updated.csv')\n",
    "mov_line.head()"
   ]
  },
  {
   "cell_type": "code",
   "execution_count": 9,
   "metadata": {},
   "outputs": [
    {
     "data": {
      "text/plain": [
       "lineID      0\n",
       "charID      0\n",
       "movieID     0\n",
       "charName    0\n",
       "line        0\n",
       "dtype: int64"
      ]
     },
     "execution_count": 9,
     "metadata": {},
     "output_type": "execute_result"
    }
   ],
   "source": [
    "mov_line.isnull().sum()"
   ]
  },
  {
   "cell_type": "markdown",
   "metadata": {},
   "source": [
    "Stripping the beginning and leading spaces for each column: `lineID`, `charID`, `movieID`, `charName`, `line`."
   ]
  },
  {
   "cell_type": "code",
   "execution_count": 10,
   "metadata": {},
   "outputs": [],
   "source": [
    "def strip_extra_spaces(df):\n",
    "    \n",
    "    # Iterate through each column in the dataframe\n",
    "    for column in df.columns:\n",
    "        \n",
    "        # DF series must not be a float and an integer\n",
    "        if (df[column].dtypes != float) and (df[column].dtypes != int):\n",
    "            try: \n",
    "                # Strip beginning and leading spaces for all observations\n",
    "                df[column] = df[column].apply(lambda x: x.strip())\n",
    "                print(f'{column} is clean.')\n",
    "            except:\n",
    "                print(f'{column} is not clean')"
   ]
  },
  {
   "cell_type": "code",
   "execution_count": 11,
   "metadata": {},
   "outputs": [
    {
     "name": "stdout",
     "output_type": "stream",
     "text": [
      "lineID is clean.\n",
      "charID is clean.\n",
      "movieID is clean.\n",
      "charName is clean.\n",
      "line is clean.\n"
     ]
    }
   ],
   "source": [
    "strip_extra_spaces(mov_line)"
   ]
  },
  {
   "cell_type": "code",
   "execution_count": 12,
   "metadata": {},
   "outputs": [
    {
     "data": {
      "text/plain": [
       "lineID      object\n",
       "charID      object\n",
       "movieID     object\n",
       "charName    object\n",
       "line        object\n",
       "dtype: object"
      ]
     },
     "execution_count": 12,
     "metadata": {},
     "output_type": "execute_result"
    }
   ],
   "source": [
    "mov_line.dtypes"
   ]
  },
  {
   "cell_type": "markdown",
   "metadata": {},
   "source": [
    "Examining the number of unique characters based on their id column `charID`."
   ]
  },
  {
   "cell_type": "code",
   "execution_count": 13,
   "metadata": {},
   "outputs": [
    {
     "data": {
      "text/plain": [
       "1917"
      ]
     },
     "execution_count": 13,
     "metadata": {},
     "output_type": "execute_result"
    }
   ],
   "source": [
    "len(mov_line['charID'].unique())"
   ]
  },
  {
   "cell_type": "markdown",
   "metadata": {},
   "source": [
    "Each character in each movie should have a unique character id (`charID`). I am going to look for any character id's that have multiple names associated with it."
   ]
  },
  {
   "cell_type": "code",
   "execution_count": 14,
   "metadata": {},
   "outputs": [],
   "source": [
    "def not_unique_character(df):\n",
    "    counter = 0\n",
    "    \n",
    "    # Iterating through each unique character ID\n",
    "    for unique_character in df['charID'].unique():\n",
    "        \n",
    "        # Series that contains the names associated with the unique ID\n",
    "        character_name = df['charName'][df['charID'] == unique_character]\n",
    "        \n",
    "        # if there are multiple names per id\n",
    "        if len(character_name.value_counts().index) > 1:\n",
    "            print(f'{unique_character} has multiple character names:')\n",
    "            print(character_name.value_counts())\n",
    "            counter += 1\n",
    "    \n",
    "    print(f'\\nNumber of non-unique character(s): {counter}')"
   ]
  },
  {
   "cell_type": "code",
   "execution_count": 16,
   "metadata": {},
   "outputs": [
    {
     "name": "stdout",
     "output_type": "stream",
     "text": [
      "u2 has multiple character names:\n",
      "CAMERON    77\n",
      "zz          1\n",
      "Name: charName, dtype: int64\n",
      "\n",
      "Number of non-unique character(s): 1\n"
     ]
    }
   ],
   "source": [
    "not_unique_character(mov_line)"
   ]
  },
  {
   "cell_type": "markdown",
   "metadata": {},
   "source": [
    "As a result, the name 'zz' should be replaced by 'CAMERON'."
   ]
  },
  {
   "cell_type": "code",
   "execution_count": 17,
   "metadata": {
    "scrolled": true
   },
   "outputs": [
    {
     "data": {
      "text/html": [
       "<div>\n",
       "<style scoped>\n",
       "    .dataframe tbody tr th:only-of-type {\n",
       "        vertical-align: middle;\n",
       "    }\n",
       "\n",
       "    .dataframe tbody tr th {\n",
       "        vertical-align: top;\n",
       "    }\n",
       "\n",
       "    .dataframe thead th {\n",
       "        text-align: right;\n",
       "    }\n",
       "</style>\n",
       "<table border=\"1\" class=\"dataframe\">\n",
       "  <thead>\n",
       "    <tr style=\"text-align: right;\">\n",
       "      <th></th>\n",
       "      <th>lineID</th>\n",
       "      <th>charID</th>\n",
       "      <th>movieID</th>\n",
       "      <th>charName</th>\n",
       "      <th>line</th>\n",
       "    </tr>\n",
       "  </thead>\n",
       "  <tbody>\n",
       "    <tr>\n",
       "      <th>1</th>\n",
       "      <td>L1044</td>\n",
       "      <td>u2</td>\n",
       "      <td>m0</td>\n",
       "      <td>zz</td>\n",
       "      <td>They do to!</td>\n",
       "    </tr>\n",
       "    <tr>\n",
       "      <th>3</th>\n",
       "      <td>L984</td>\n",
       "      <td>u2</td>\n",
       "      <td>m0</td>\n",
       "      <td>CAMERON</td>\n",
       "      <td>She okay?</td>\n",
       "    </tr>\n",
       "    <tr>\n",
       "      <th>5</th>\n",
       "      <td>L924</td>\n",
       "      <td>u2</td>\n",
       "      <td>m0</td>\n",
       "      <td>CAMERON</td>\n",
       "      <td>Wow</td>\n",
       "    </tr>\n",
       "  </tbody>\n",
       "</table>\n",
       "</div>"
      ],
      "text/plain": [
       "  lineID charID movieID charName         line\n",
       "1  L1044     u2      m0       zz  They do to!\n",
       "3   L984     u2      m0  CAMERON    She okay?\n",
       "5   L924     u2      m0  CAMERON          Wow"
      ]
     },
     "execution_count": 17,
     "metadata": {},
     "output_type": "execute_result"
    }
   ],
   "source": [
    "mov_line[(mov_line['charName'] =='zz')|(mov_line['charName'] =='CAMERON')].head(3)"
   ]
  },
  {
   "cell_type": "code",
   "execution_count": 18,
   "metadata": {
    "scrolled": true
   },
   "outputs": [],
   "source": [
    "mov_line.at[1,'charName'] = 'CAMERON'"
   ]
  },
  {
   "cell_type": "code",
   "execution_count": 19,
   "metadata": {},
   "outputs": [],
   "source": [
    "mov_line.to_csv('../data/movie_lines_updated.csv', index_label = False)"
   ]
  },
  {
   "cell_type": "markdown",
   "metadata": {},
   "source": [
    "#### **Examining and Cleaning the `char_data.csv`:**\n",
    "\n",
    "The `char_data.csv` file has the character name, movie id, and the movie name."
   ]
  },
  {
   "cell_type": "code",
   "execution_count": 20,
   "metadata": {},
   "outputs": [
    {
     "data": {
      "text/html": [
       "<div>\n",
       "<style scoped>\n",
       "    .dataframe tbody tr th:only-of-type {\n",
       "        vertical-align: middle;\n",
       "    }\n",
       "\n",
       "    .dataframe tbody tr th {\n",
       "        vertical-align: top;\n",
       "    }\n",
       "\n",
       "    .dataframe thead th {\n",
       "        text-align: right;\n",
       "    }\n",
       "</style>\n",
       "<table border=\"1\" class=\"dataframe\">\n",
       "  <thead>\n",
       "    <tr style=\"text-align: right;\">\n",
       "      <th></th>\n",
       "      <th>charID</th>\n",
       "      <th>charName</th>\n",
       "      <th>movieID</th>\n",
       "      <th>movieName</th>\n",
       "      <th>gender</th>\n",
       "      <th>pos</th>\n",
       "    </tr>\n",
       "  </thead>\n",
       "  <tbody>\n",
       "    <tr>\n",
       "      <th>0</th>\n",
       "      <td>u0</td>\n",
       "      <td>BIANCA</td>\n",
       "      <td>m0</td>\n",
       "      <td>10 things i hate about you</td>\n",
       "      <td>f</td>\n",
       "      <td>4</td>\n",
       "    </tr>\n",
       "    <tr>\n",
       "      <th>1</th>\n",
       "      <td>u1</td>\n",
       "      <td>BRUCE</td>\n",
       "      <td>m0</td>\n",
       "      <td>10 things i hate about you</td>\n",
       "      <td>?</td>\n",
       "      <td>?</td>\n",
       "    </tr>\n",
       "    <tr>\n",
       "      <th>2</th>\n",
       "      <td>u2</td>\n",
       "      <td>CAMERON</td>\n",
       "      <td>m0</td>\n",
       "      <td>10 things i hate about you</td>\n",
       "      <td>m</td>\n",
       "      <td>3</td>\n",
       "    </tr>\n",
       "    <tr>\n",
       "      <th>3</th>\n",
       "      <td>u3</td>\n",
       "      <td>CHASTITY</td>\n",
       "      <td>m0</td>\n",
       "      <td>10 things i hate about you</td>\n",
       "      <td>?</td>\n",
       "      <td>?</td>\n",
       "    </tr>\n",
       "    <tr>\n",
       "      <th>4</th>\n",
       "      <td>u4</td>\n",
       "      <td>JOEY</td>\n",
       "      <td>m0</td>\n",
       "      <td>10 things i hate about you</td>\n",
       "      <td>m</td>\n",
       "      <td>6</td>\n",
       "    </tr>\n",
       "    <tr>\n",
       "      <th>5</th>\n",
       "      <td>u5</td>\n",
       "      <td>KAT</td>\n",
       "      <td>m0</td>\n",
       "      <td>10 things i hate about you</td>\n",
       "      <td>f</td>\n",
       "      <td>2</td>\n",
       "    </tr>\n",
       "    <tr>\n",
       "      <th>6</th>\n",
       "      <td>u6</td>\n",
       "      <td>MANDELLA</td>\n",
       "      <td>m0</td>\n",
       "      <td>10 things i hate about you</td>\n",
       "      <td>f</td>\n",
       "      <td>7</td>\n",
       "    </tr>\n",
       "    <tr>\n",
       "      <th>7</th>\n",
       "      <td>u7</td>\n",
       "      <td>MICHAEL</td>\n",
       "      <td>m0</td>\n",
       "      <td>10 things i hate about you</td>\n",
       "      <td>m</td>\n",
       "      <td>5</td>\n",
       "    </tr>\n",
       "    <tr>\n",
       "      <th>8</th>\n",
       "      <td>u8</td>\n",
       "      <td>MISS PERKY</td>\n",
       "      <td>m0</td>\n",
       "      <td>10 things i hate about you</td>\n",
       "      <td>?</td>\n",
       "      <td>?</td>\n",
       "    </tr>\n",
       "    <tr>\n",
       "      <th>9</th>\n",
       "      <td>u9</td>\n",
       "      <td>PATRICK</td>\n",
       "      <td>m0</td>\n",
       "      <td>10 things i hate about you</td>\n",
       "      <td>m</td>\n",
       "      <td>1</td>\n",
       "    </tr>\n",
       "  </tbody>\n",
       "</table>\n",
       "</div>"
      ],
      "text/plain": [
       "  charID      charName movieID                     movieName gender pos\n",
       "0    u0        BIANCA      m0    10 things i hate about you      f    4\n",
       "1    u1         BRUCE      m0    10 things i hate about you      ?    ?\n",
       "2    u2       CAMERON      m0    10 things i hate about you      m    3\n",
       "3    u3      CHASTITY      m0    10 things i hate about you      ?    ?\n",
       "4    u4          JOEY      m0    10 things i hate about you      m    6\n",
       "5    u5           KAT      m0    10 things i hate about you      f    2\n",
       "6    u6      MANDELLA      m0    10 things i hate about you      f    7\n",
       "7    u7       MICHAEL      m0    10 things i hate about you      m    5\n",
       "8    u8    MISS PERKY      m0    10 things i hate about you      ?    ?\n",
       "9    u9       PATRICK      m0    10 things i hate about you      m    1"
      ]
     },
     "execution_count": 20,
     "metadata": {},
     "output_type": "execute_result"
    }
   ],
   "source": [
    "char = pd.read_csv('../data/char_data.csv')\n",
    "char.head(10)"
   ]
  },
  {
   "cell_type": "markdown",
   "metadata": {},
   "source": [
    "Stripping the beginning and leading spaces for each column: `charID`, `charName`, `movieID`, `movieName`, `gender`, `pos`."
   ]
  },
  {
   "cell_type": "code",
   "execution_count": 21,
   "metadata": {},
   "outputs": [
    {
     "name": "stdout",
     "output_type": "stream",
     "text": [
      "charID is clean.\n",
      "charName is clean.\n",
      "movieID is clean.\n",
      "movieName is clean.\n",
      "gender is clean.\n",
      "pos is clean.\n"
     ]
    }
   ],
   "source": [
    "strip_extra_spaces(char)"
   ]
  },
  {
   "cell_type": "markdown",
   "metadata": {},
   "source": [
    "Checking for nulls:"
   ]
  },
  {
   "cell_type": "code",
   "execution_count": 22,
   "metadata": {},
   "outputs": [
    {
     "data": {
      "text/plain": [
       "0"
      ]
     },
     "execution_count": 22,
     "metadata": {},
     "output_type": "execute_result"
    }
   ],
   "source": [
    "char.isnull().sum().sum()"
   ]
  },
  {
   "cell_type": "markdown",
   "metadata": {},
   "source": [
    "I will now investigate the `gender` column."
   ]
  },
  {
   "cell_type": "code",
   "execution_count": 23,
   "metadata": {},
   "outputs": [
    {
     "data": {
      "text/plain": [
       "?    0.666187\n",
       "m    0.210183\n",
       "f    0.101937\n",
       "M    0.016602\n",
       "F    0.004981\n",
       "$    0.000111\n",
       "Name: gender, dtype: float64"
      ]
     },
     "execution_count": 23,
     "metadata": {},
     "output_type": "execute_result"
    }
   ],
   "source": [
    "char['gender'].value_counts(normalize = True)"
   ]
  },
  {
   "cell_type": "markdown",
   "metadata": {},
   "source": [
    "Unfortunately, over 66% of the data contains a null value, so I will have to drop the `gender` column."
   ]
  },
  {
   "cell_type": "code",
   "execution_count": 24,
   "metadata": {},
   "outputs": [],
   "source": [
    "char = char.drop('gender',1)"
   ]
  },
  {
   "cell_type": "markdown",
   "metadata": {},
   "source": [
    "The `pos` column is the character's position in movie credits. For the model's purposes, this column will be dropped."
   ]
  },
  {
   "cell_type": "code",
   "execution_count": 25,
   "metadata": {},
   "outputs": [],
   "source": [
    "char = char.drop('pos',1)"
   ]
  },
  {
   "cell_type": "code",
   "execution_count": 26,
   "metadata": {},
   "outputs": [
    {
     "data": {
      "text/html": [
       "<div>\n",
       "<style scoped>\n",
       "    .dataframe tbody tr th:only-of-type {\n",
       "        vertical-align: middle;\n",
       "    }\n",
       "\n",
       "    .dataframe tbody tr th {\n",
       "        vertical-align: top;\n",
       "    }\n",
       "\n",
       "    .dataframe thead th {\n",
       "        text-align: right;\n",
       "    }\n",
       "</style>\n",
       "<table border=\"1\" class=\"dataframe\">\n",
       "  <thead>\n",
       "    <tr style=\"text-align: right;\">\n",
       "      <th></th>\n",
       "      <th>charID</th>\n",
       "      <th>charName</th>\n",
       "      <th>movieID</th>\n",
       "      <th>movieName</th>\n",
       "    </tr>\n",
       "  </thead>\n",
       "  <tbody>\n",
       "    <tr>\n",
       "      <th>0</th>\n",
       "      <td>u0</td>\n",
       "      <td>BIANCA</td>\n",
       "      <td>m0</td>\n",
       "      <td>10 things i hate about you</td>\n",
       "    </tr>\n",
       "    <tr>\n",
       "      <th>1</th>\n",
       "      <td>u1</td>\n",
       "      <td>BRUCE</td>\n",
       "      <td>m0</td>\n",
       "      <td>10 things i hate about you</td>\n",
       "    </tr>\n",
       "    <tr>\n",
       "      <th>2</th>\n",
       "      <td>u2</td>\n",
       "      <td>CAMERON</td>\n",
       "      <td>m0</td>\n",
       "      <td>10 things i hate about you</td>\n",
       "    </tr>\n",
       "    <tr>\n",
       "      <th>3</th>\n",
       "      <td>u3</td>\n",
       "      <td>CHASTITY</td>\n",
       "      <td>m0</td>\n",
       "      <td>10 things i hate about you</td>\n",
       "    </tr>\n",
       "    <tr>\n",
       "      <th>4</th>\n",
       "      <td>u4</td>\n",
       "      <td>JOEY</td>\n",
       "      <td>m0</td>\n",
       "      <td>10 things i hate about you</td>\n",
       "    </tr>\n",
       "  </tbody>\n",
       "</table>\n",
       "</div>"
      ],
      "text/plain": [
       "  charID  charName movieID                   movieName\n",
       "0     u0    BIANCA      m0  10 things i hate about you\n",
       "1     u1     BRUCE      m0  10 things i hate about you\n",
       "2     u2   CAMERON      m0  10 things i hate about you\n",
       "3     u3  CHASTITY      m0  10 things i hate about you\n",
       "4     u4      JOEY      m0  10 things i hate about you"
      ]
     },
     "execution_count": 26,
     "metadata": {},
     "output_type": "execute_result"
    }
   ],
   "source": [
    "char.head()"
   ]
  },
  {
   "cell_type": "markdown",
   "metadata": {},
   "source": [
    "Each character in each movie has a unique character id (`charID`). I am going to look for any character id's that have multiple names."
   ]
  },
  {
   "cell_type": "code",
   "execution_count": 27,
   "metadata": {},
   "outputs": [
    {
     "name": "stdout",
     "output_type": "stream",
     "text": [
      "\n",
      "Number of non-unique character(s): 0\n"
     ]
    }
   ],
   "source": [
    "not_unique_character(char)"
   ]
  },
  {
   "cell_type": "markdown",
   "metadata": {},
   "source": [
    "Great, there are none."
   ]
  },
  {
   "cell_type": "code",
   "execution_count": 28,
   "metadata": {},
   "outputs": [
    {
     "data": {
      "text/html": [
       "<div>\n",
       "<style scoped>\n",
       "    .dataframe tbody tr th:only-of-type {\n",
       "        vertical-align: middle;\n",
       "    }\n",
       "\n",
       "    .dataframe tbody tr th {\n",
       "        vertical-align: top;\n",
       "    }\n",
       "\n",
       "    .dataframe thead th {\n",
       "        text-align: right;\n",
       "    }\n",
       "</style>\n",
       "<table border=\"1\" class=\"dataframe\">\n",
       "  <thead>\n",
       "    <tr style=\"text-align: right;\">\n",
       "      <th></th>\n",
       "      <th>charID</th>\n",
       "      <th>charName</th>\n",
       "      <th>movieID</th>\n",
       "      <th>movieName</th>\n",
       "    </tr>\n",
       "  </thead>\n",
       "  <tbody>\n",
       "    <tr>\n",
       "      <th>6558</th>\n",
       "      <td>u6558</td>\n",
       "      <td></td>\n",
       "      <td>m436</td>\n",
       "      <td>memento</td>\n",
       "    </tr>\n",
       "    <tr>\n",
       "      <th>3764</th>\n",
       "      <td>u3764</td>\n",
       "      <td></td>\n",
       "      <td>m248</td>\n",
       "      <td>arctic blue</td>\n",
       "    </tr>\n",
       "    <tr>\n",
       "      <th>5011</th>\n",
       "      <td>u5011</td>\n",
       "      <td>\"BRILL\"</td>\n",
       "      <td>m333</td>\n",
       "      <td>enemy of the state</td>\n",
       "    </tr>\n",
       "    <tr>\n",
       "      <th>1602</th>\n",
       "      <td>u1602</td>\n",
       "      <td>\"DOCTOR\"</td>\n",
       "      <td>m106</td>\n",
       "      <td>jacob's ladder</td>\n",
       "    </tr>\n",
       "    <tr>\n",
       "      <th>7845</th>\n",
       "      <td>u7845</td>\n",
       "      <td>\"ILIA\"</td>\n",
       "      <td>m531</td>\n",
       "      <td>star trek: the motion picture</td>\n",
       "    </tr>\n",
       "  </tbody>\n",
       "</table>\n",
       "</div>"
      ],
      "text/plain": [
       "     charID  charName movieID                      movieName\n",
       "6558  u6558              m436                        memento\n",
       "3764  u3764              m248                    arctic blue\n",
       "5011  u5011   \"BRILL\"    m333             enemy of the state\n",
       "1602  u1602  \"DOCTOR\"    m106                 jacob's ladder\n",
       "7845  u7845    \"ILIA\"    m531  star trek: the motion picture"
      ]
     },
     "execution_count": 28,
     "metadata": {},
     "output_type": "execute_result"
    }
   ],
   "source": [
    "char.sort_values('charName').head()"
   ]
  },
  {
   "cell_type": "markdown",
   "metadata": {},
   "source": [
    "None of the blank character names show up in the `mov_line` dataframe."
   ]
  },
  {
   "cell_type": "code",
   "execution_count": 29,
   "metadata": {},
   "outputs": [
    {
     "data": {
      "text/html": [
       "<div>\n",
       "<style scoped>\n",
       "    .dataframe tbody tr th:only-of-type {\n",
       "        vertical-align: middle;\n",
       "    }\n",
       "\n",
       "    .dataframe tbody tr th {\n",
       "        vertical-align: top;\n",
       "    }\n",
       "\n",
       "    .dataframe thead th {\n",
       "        text-align: right;\n",
       "    }\n",
       "</style>\n",
       "<table border=\"1\" class=\"dataframe\">\n",
       "  <thead>\n",
       "    <tr style=\"text-align: right;\">\n",
       "      <th></th>\n",
       "      <th>lineID</th>\n",
       "      <th>charID</th>\n",
       "      <th>movieID</th>\n",
       "      <th>charName</th>\n",
       "      <th>line</th>\n",
       "    </tr>\n",
       "  </thead>\n",
       "  <tbody>\n",
       "  </tbody>\n",
       "</table>\n",
       "</div>"
      ],
      "text/plain": [
       "Empty DataFrame\n",
       "Columns: [lineID, charID, movieID, charName, line]\n",
       "Index: []"
      ]
     },
     "execution_count": 29,
     "metadata": {},
     "output_type": "execute_result"
    }
   ],
   "source": [
    "mov_line[(mov_line['charID'] == 'u6558')|(mov_line['charID'] == 'u3764')]"
   ]
  },
  {
   "cell_type": "markdown",
   "metadata": {},
   "source": [
    "I'll have to drop the blank values in `charName` as well as remove quotation marks `\"\"` in the other names."
   ]
  },
  {
   "cell_type": "code",
   "execution_count": 30,
   "metadata": {},
   "outputs": [
    {
     "data": {
      "text/html": [
       "<div>\n",
       "<style scoped>\n",
       "    .dataframe tbody tr th:only-of-type {\n",
       "        vertical-align: middle;\n",
       "    }\n",
       "\n",
       "    .dataframe tbody tr th {\n",
       "        vertical-align: top;\n",
       "    }\n",
       "\n",
       "    .dataframe thead th {\n",
       "        text-align: right;\n",
       "    }\n",
       "</style>\n",
       "<table border=\"1\" class=\"dataframe\">\n",
       "  <thead>\n",
       "    <tr style=\"text-align: right;\">\n",
       "      <th></th>\n",
       "      <th>charID</th>\n",
       "      <th>charName</th>\n",
       "      <th>movieID</th>\n",
       "      <th>movieName</th>\n",
       "    </tr>\n",
       "  </thead>\n",
       "  <tbody>\n",
       "    <tr>\n",
       "      <th>5015</th>\n",
       "      <td>u5015</td>\n",
       "      <td>BRILL</td>\n",
       "      <td>m333</td>\n",
       "      <td>enemy of the state</td>\n",
       "    </tr>\n",
       "  </tbody>\n",
       "</table>\n",
       "</div>"
      ],
      "text/plain": [
       "     charID charName movieID           movieName\n",
       "5015  u5015    BRILL    m333  enemy of the state"
      ]
     },
     "execution_count": 30,
     "metadata": {},
     "output_type": "execute_result"
    }
   ],
   "source": [
    "char['charName'] = char['charName'].replace('\"','')\n",
    "char[char['charName'] == 'BRILL']"
   ]
  },
  {
   "cell_type": "code",
   "execution_count": 31,
   "metadata": {},
   "outputs": [],
   "source": [
    "char.to_csv('../data/char_data_updated.csv', index_label = False)"
   ]
  },
  {
   "cell_type": "markdown",
   "metadata": {},
   "source": [
    "#### Grouping all lines per unique character per movie:"
   ]
  },
  {
   "cell_type": "code",
   "execution_count": 32,
   "metadata": {},
   "outputs": [
    {
     "data": {
      "text/html": [
       "<div>\n",
       "<style scoped>\n",
       "    .dataframe tbody tr th:only-of-type {\n",
       "        vertical-align: middle;\n",
       "    }\n",
       "\n",
       "    .dataframe tbody tr th {\n",
       "        vertical-align: top;\n",
       "    }\n",
       "\n",
       "    .dataframe thead th {\n",
       "        text-align: right;\n",
       "    }\n",
       "</style>\n",
       "<table border=\"1\" class=\"dataframe\">\n",
       "  <thead>\n",
       "    <tr style=\"text-align: right;\">\n",
       "      <th></th>\n",
       "      <th>charID</th>\n",
       "      <th>charName</th>\n",
       "      <th>line</th>\n",
       "    </tr>\n",
       "  </thead>\n",
       "  <tbody>\n",
       "    <tr>\n",
       "      <th>0</th>\n",
       "      <td>u0</td>\n",
       "      <td>BIANCA</td>\n",
       "      <td>They do not!</td>\n",
       "    </tr>\n",
       "    <tr>\n",
       "      <th>1</th>\n",
       "      <td>u2</td>\n",
       "      <td>CAMERON</td>\n",
       "      <td>They do to!</td>\n",
       "    </tr>\n",
       "    <tr>\n",
       "      <th>2</th>\n",
       "      <td>u0</td>\n",
       "      <td>BIANCA</td>\n",
       "      <td>I hope so.</td>\n",
       "    </tr>\n",
       "    <tr>\n",
       "      <th>3</th>\n",
       "      <td>u2</td>\n",
       "      <td>CAMERON</td>\n",
       "      <td>She okay?</td>\n",
       "    </tr>\n",
       "    <tr>\n",
       "      <th>4</th>\n",
       "      <td>u0</td>\n",
       "      <td>BIANCA</td>\n",
       "      <td>Let's go.</td>\n",
       "    </tr>\n",
       "  </tbody>\n",
       "</table>\n",
       "</div>"
      ],
      "text/plain": [
       "  charID charName          line\n",
       "0     u0   BIANCA  They do not!\n",
       "1     u2  CAMERON   They do to!\n",
       "2     u0   BIANCA    I hope so.\n",
       "3     u2  CAMERON     She okay?\n",
       "4     u0   BIANCA     Let's go."
      ]
     },
     "execution_count": 32,
     "metadata": {},
     "output_type": "execute_result"
    }
   ],
   "source": [
    "mov_line[['charID', 'charName', 'line']].head()"
   ]
  },
  {
   "cell_type": "markdown",
   "metadata": {},
   "source": [
    "I will now combine each character's lines into one document per character ID."
   ]
  },
  {
   "cell_type": "code",
   "execution_count": 33,
   "metadata": {},
   "outputs": [],
   "source": [
    "id_doc = {}\n",
    "for character in mov_line['charID'].unique():\n",
    "    character_line = ''\n",
    "    for line in mov_line[mov_line['charID'] == character]['line']:\n",
    "        character_line += line + ' '\n",
    "    id_doc[character] = character_line"
   ]
  },
  {
   "cell_type": "markdown",
   "metadata": {},
   "source": [
    "Creating a dataframe of the character ID and all of their associated movie lines."
   ]
  },
  {
   "cell_type": "code",
   "execution_count": 34,
   "metadata": {},
   "outputs": [
    {
     "data": {
      "text/html": [
       "<div>\n",
       "<style scoped>\n",
       "    .dataframe tbody tr th:only-of-type {\n",
       "        vertical-align: middle;\n",
       "    }\n",
       "\n",
       "    .dataframe tbody tr th {\n",
       "        vertical-align: top;\n",
       "    }\n",
       "\n",
       "    .dataframe thead th {\n",
       "        text-align: right;\n",
       "    }\n",
       "</style>\n",
       "<table border=\"1\" class=\"dataframe\">\n",
       "  <thead>\n",
       "    <tr style=\"text-align: right;\">\n",
       "      <th></th>\n",
       "      <th>charID</th>\n",
       "      <th>all_lines</th>\n",
       "    </tr>\n",
       "  </thead>\n",
       "  <tbody>\n",
       "    <tr>\n",
       "      <th>0</th>\n",
       "      <td>u0</td>\n",
       "      <td>They do not! I hope so. Let's go. Okay -- you'...</td>\n",
       "    </tr>\n",
       "    <tr>\n",
       "      <th>1</th>\n",
       "      <td>u2</td>\n",
       "      <td>They do to! She okay? Wow No The \"real you\". I...</td>\n",
       "    </tr>\n",
       "    <tr>\n",
       "      <th>2</th>\n",
       "      <td>u3</td>\n",
       "      <td>You think you ' re the only sophomore at the p...</td>\n",
       "    </tr>\n",
       "    <tr>\n",
       "      <th>3</th>\n",
       "      <td>u4</td>\n",
       "      <td>Listen, I want to talk to you about the prom. ...</td>\n",
       "    </tr>\n",
       "    <tr>\n",
       "      <th>4</th>\n",
       "      <td>u5</td>\n",
       "      <td>Perm? It's just you. What? To completely damag...</td>\n",
       "    </tr>\n",
       "  </tbody>\n",
       "</table>\n",
       "</div>"
      ],
      "text/plain": [
       "  charID                                          all_lines\n",
       "0     u0  They do not! I hope so. Let's go. Okay -- you'...\n",
       "1     u2  They do to! She okay? Wow No The \"real you\". I...\n",
       "2     u3  You think you ' re the only sophomore at the p...\n",
       "3     u4  Listen, I want to talk to you about the prom. ...\n",
       "4     u5  Perm? It's just you. What? To completely damag..."
      ]
     },
     "execution_count": 34,
     "metadata": {},
     "output_type": "execute_result"
    }
   ],
   "source": [
    "mov_id_lines = pd.DataFrame.from_dict(id_doc, orient='index')\n",
    "mov_id_lines = mov_id_lines.reset_index(drop=False)\n",
    "mov_id_lines.columns = ['charID','all_lines']\n",
    "mov_id_lines.head()"
   ]
  },
  {
   "cell_type": "markdown",
   "metadata": {},
   "source": [
    "There are 1917 unique movie characters."
   ]
  },
  {
   "cell_type": "code",
   "execution_count": 35,
   "metadata": {},
   "outputs": [
    {
     "data": {
      "text/plain": [
       "(1917, 2)"
      ]
     },
     "execution_count": 35,
     "metadata": {},
     "output_type": "execute_result"
    }
   ],
   "source": [
    "mov_id_lines.shape"
   ]
  },
  {
   "cell_type": "code",
   "execution_count": 36,
   "metadata": {},
   "outputs": [
    {
     "data": {
      "text/html": [
       "<div>\n",
       "<style scoped>\n",
       "    .dataframe tbody tr th:only-of-type {\n",
       "        vertical-align: middle;\n",
       "    }\n",
       "\n",
       "    .dataframe tbody tr th {\n",
       "        vertical-align: top;\n",
       "    }\n",
       "\n",
       "    .dataframe thead th {\n",
       "        text-align: right;\n",
       "    }\n",
       "</style>\n",
       "<table border=\"1\" class=\"dataframe\">\n",
       "  <thead>\n",
       "    <tr style=\"text-align: right;\">\n",
       "      <th></th>\n",
       "      <th>lineID</th>\n",
       "      <th>charID</th>\n",
       "      <th>movieID</th>\n",
       "      <th>charName</th>\n",
       "      <th>line</th>\n",
       "    </tr>\n",
       "  </thead>\n",
       "  <tbody>\n",
       "    <tr>\n",
       "      <th>0</th>\n",
       "      <td>L1045</td>\n",
       "      <td>u0</td>\n",
       "      <td>m0</td>\n",
       "      <td>BIANCA</td>\n",
       "      <td>They do not!</td>\n",
       "    </tr>\n",
       "    <tr>\n",
       "      <th>1</th>\n",
       "      <td>L1044</td>\n",
       "      <td>u2</td>\n",
       "      <td>m0</td>\n",
       "      <td>CAMERON</td>\n",
       "      <td>They do to!</td>\n",
       "    </tr>\n",
       "    <tr>\n",
       "      <th>2</th>\n",
       "      <td>L985</td>\n",
       "      <td>u0</td>\n",
       "      <td>m0</td>\n",
       "      <td>BIANCA</td>\n",
       "      <td>I hope so.</td>\n",
       "    </tr>\n",
       "  </tbody>\n",
       "</table>\n",
       "</div>"
      ],
      "text/plain": [
       "  lineID charID movieID charName          line\n",
       "0  L1045     u0      m0   BIANCA  They do not!\n",
       "1  L1044     u2      m0  CAMERON   They do to!\n",
       "2   L985     u0      m0   BIANCA    I hope so."
      ]
     },
     "execution_count": 36,
     "metadata": {},
     "output_type": "execute_result"
    }
   ],
   "source": [
    "mov_line.head(3)"
   ]
  },
  {
   "cell_type": "code",
   "execution_count": 37,
   "metadata": {},
   "outputs": [
    {
     "data": {
      "text/html": [
       "<div>\n",
       "<style scoped>\n",
       "    .dataframe tbody tr th:only-of-type {\n",
       "        vertical-align: middle;\n",
       "    }\n",
       "\n",
       "    .dataframe tbody tr th {\n",
       "        vertical-align: top;\n",
       "    }\n",
       "\n",
       "    .dataframe thead th {\n",
       "        text-align: right;\n",
       "    }\n",
       "</style>\n",
       "<table border=\"1\" class=\"dataframe\">\n",
       "  <thead>\n",
       "    <tr style=\"text-align: right;\">\n",
       "      <th></th>\n",
       "      <th>charID</th>\n",
       "      <th>charName</th>\n",
       "      <th>movieID</th>\n",
       "      <th>movieName</th>\n",
       "    </tr>\n",
       "  </thead>\n",
       "  <tbody>\n",
       "    <tr>\n",
       "      <th>0</th>\n",
       "      <td>u0</td>\n",
       "      <td>BIANCA</td>\n",
       "      <td>m0</td>\n",
       "      <td>10 things i hate about you</td>\n",
       "    </tr>\n",
       "    <tr>\n",
       "      <th>1</th>\n",
       "      <td>u1</td>\n",
       "      <td>BRUCE</td>\n",
       "      <td>m0</td>\n",
       "      <td>10 things i hate about you</td>\n",
       "    </tr>\n",
       "    <tr>\n",
       "      <th>2</th>\n",
       "      <td>u2</td>\n",
       "      <td>CAMERON</td>\n",
       "      <td>m0</td>\n",
       "      <td>10 things i hate about you</td>\n",
       "    </tr>\n",
       "  </tbody>\n",
       "</table>\n",
       "</div>"
      ],
      "text/plain": [
       "  charID charName movieID                   movieName\n",
       "0     u0   BIANCA      m0  10 things i hate about you\n",
       "1     u1    BRUCE      m0  10 things i hate about you\n",
       "2     u2  CAMERON      m0  10 things i hate about you"
      ]
     },
     "execution_count": 37,
     "metadata": {},
     "output_type": "execute_result"
    }
   ],
   "source": [
    "char.head(3)"
   ]
  },
  {
   "cell_type": "markdown",
   "metadata": {},
   "source": [
    "Rearranging `char` columns:"
   ]
  },
  {
   "cell_type": "code",
   "execution_count": 38,
   "metadata": {},
   "outputs": [],
   "source": [
    "char = char[['charID', 'charName','movieName','movieID']]"
   ]
  },
  {
   "cell_type": "markdown",
   "metadata": {},
   "source": [
    "#### **Merging `mov_line` and  `char` dataframes:**\n",
    "Combining all the lines per character ID and the character names, movie, and movie id."
   ]
  },
  {
   "cell_type": "code",
   "execution_count": 39,
   "metadata": {},
   "outputs": [],
   "source": [
    "mov_dialog = mov_id_lines.set_index('charID').join(char.set_index('charID'))\n",
    "mov_dialog = mov_dialog.drop_duplicates()\n",
    "mov_dialog = mov_dialog.reset_index()"
   ]
  },
  {
   "cell_type": "code",
   "execution_count": 40,
   "metadata": {},
   "outputs": [
    {
     "data": {
      "text/html": [
       "<div>\n",
       "<style scoped>\n",
       "    .dataframe tbody tr th:only-of-type {\n",
       "        vertical-align: middle;\n",
       "    }\n",
       "\n",
       "    .dataframe tbody tr th {\n",
       "        vertical-align: top;\n",
       "    }\n",
       "\n",
       "    .dataframe thead th {\n",
       "        text-align: right;\n",
       "    }\n",
       "</style>\n",
       "<table border=\"1\" class=\"dataframe\">\n",
       "  <thead>\n",
       "    <tr style=\"text-align: right;\">\n",
       "      <th></th>\n",
       "      <th>charID</th>\n",
       "      <th>all_lines</th>\n",
       "      <th>charName</th>\n",
       "      <th>movieName</th>\n",
       "      <th>movieID</th>\n",
       "    </tr>\n",
       "  </thead>\n",
       "  <tbody>\n",
       "    <tr>\n",
       "      <th>0</th>\n",
       "      <td>u0</td>\n",
       "      <td>They do not! I hope so. Let's go. Okay -- you'...</td>\n",
       "      <td>BIANCA</td>\n",
       "      <td>10 things i hate about you</td>\n",
       "      <td>m0</td>\n",
       "    </tr>\n",
       "    <tr>\n",
       "      <th>1</th>\n",
       "      <td>u2</td>\n",
       "      <td>They do to! She okay? Wow No The \"real you\". I...</td>\n",
       "      <td>CAMERON</td>\n",
       "      <td>10 things i hate about you</td>\n",
       "      <td>m0</td>\n",
       "    </tr>\n",
       "    <tr>\n",
       "      <th>2</th>\n",
       "      <td>u3</td>\n",
       "      <td>You think you ' re the only sophomore at the p...</td>\n",
       "      <td>CHASTITY</td>\n",
       "      <td>10 things i hate about you</td>\n",
       "      <td>m0</td>\n",
       "    </tr>\n",
       "    <tr>\n",
       "      <th>3</th>\n",
       "      <td>u4</td>\n",
       "      <td>Listen, I want to talk to you about the prom. ...</td>\n",
       "      <td>JOEY</td>\n",
       "      <td>10 things i hate about you</td>\n",
       "      <td>m0</td>\n",
       "    </tr>\n",
       "    <tr>\n",
       "      <th>4</th>\n",
       "      <td>u5</td>\n",
       "      <td>Perm? It's just you. What? To completely damag...</td>\n",
       "      <td>KAT</td>\n",
       "      <td>10 things i hate about you</td>\n",
       "      <td>m0</td>\n",
       "    </tr>\n",
       "  </tbody>\n",
       "</table>\n",
       "</div>"
      ],
      "text/plain": [
       "  charID                                          all_lines  charName  \\\n",
       "0     u0  They do not! I hope so. Let's go. Okay -- you'...    BIANCA   \n",
       "1     u2  They do to! She okay? Wow No The \"real you\". I...   CAMERON   \n",
       "2     u3  You think you ' re the only sophomore at the p...  CHASTITY   \n",
       "3     u4  Listen, I want to talk to you about the prom. ...      JOEY   \n",
       "4     u5  Perm? It's just you. What? To completely damag...       KAT   \n",
       "\n",
       "                    movieName movieID  \n",
       "0  10 things i hate about you      m0  \n",
       "1  10 things i hate about you      m0  \n",
       "2  10 things i hate about you      m0  \n",
       "3  10 things i hate about you      m0  \n",
       "4  10 things i hate about you      m0  "
      ]
     },
     "execution_count": 40,
     "metadata": {},
     "output_type": "execute_result"
    }
   ],
   "source": [
    "mov_dialog.head()"
   ]
  },
  {
   "cell_type": "code",
   "execution_count": 41,
   "metadata": {},
   "outputs": [],
   "source": [
    "mov_dialog.to_csv('../data/movie_dialogue_updated.csv', index_label = False)"
   ]
  },
  {
   "cell_type": "markdown",
   "metadata": {},
   "source": [
    "## Cleaning Movie Quotes Corpus\n",
    "\n",
    "The movie quotes corpus contains the following information from 1068 movie scripts:\n",
    "- Movie Title\n",
    "- Character\n",
    "- Text"
   ]
  },
  {
   "cell_type": "code",
   "execution_count": 42,
   "metadata": {},
   "outputs": [],
   "source": [
    "mov_quo = open('../data/moviequotes.scripts.txt', 'r') \n",
    "mov_quo = open('../data/moviequotes.scripts.txt', encoding='utf-8', errors='ignore').read().split('\\n')"
   ]
  },
  {
   "cell_type": "markdown",
   "metadata": {},
   "source": [
    "There are 894,015 observations"
   ]
  },
  {
   "cell_type": "code",
   "execution_count": 43,
   "metadata": {},
   "outputs": [
    {
     "data": {
      "text/plain": [
       "894015"
      ]
     },
     "execution_count": 43,
     "metadata": {},
     "output_type": "execute_result"
    }
   ],
   "source": [
    "len(mov_quo)"
   ]
  },
  {
   "cell_type": "code",
   "execution_count": 44,
   "metadata": {},
   "outputs": [
    {
     "data": {
      "text/plain": [
       "['0 +++$+++ \"murderland\" +++$+++ 1 +++$+++ announcer +++$+++  +++$+++ Ladies and gentlemen, the official mascot of Murderland.... Scraps the Dog !',\n",
       " '1 +++$+++ \"murderland\" +++$+++ 2 +++$+++ announcer +++$+++  +++$+++ Choose the doorway that starts you on your magical journey into  MURDERLAND !',\n",
       " '2 +++$+++ \"murderland\" +++$+++ 3 +++$+++ johnny +++$+++  +++$+++ I didn\\'t think he\\'d make it past Scraps.']"
      ]
     },
     "execution_count": 44,
     "metadata": {},
     "output_type": "execute_result"
    }
   ],
   "source": [
    "mov_quo[:3]"
   ]
  },
  {
   "cell_type": "markdown",
   "metadata": {},
   "source": [
    "Cleaning the dataset by removing uncommon separators."
   ]
  },
  {
   "cell_type": "code",
   "execution_count": 45,
   "metadata": {},
   "outputs": [],
   "source": [
    "clean_list = []\n",
    "for line in mov_quo:\n",
    "    line = line.replace(' +++$+++ ', '+$+')\n",
    "    line = line.replace('\"', '')\n",
    "    line = line.split('+$+')\n",
    "    clean_list.append(line)"
   ]
  },
  {
   "cell_type": "code",
   "execution_count": 46,
   "metadata": {},
   "outputs": [
    {
     "data": {
      "text/plain": [
       "['0',\n",
       " 'murderland',\n",
       " '1',\n",
       " 'announcer',\n",
       " '',\n",
       " 'Ladies and gentlemen, the official mascot of Murderland.... Scraps the Dog !']"
      ]
     },
     "execution_count": 46,
     "metadata": {},
     "output_type": "execute_result"
    }
   ],
   "source": [
    "len(clean_list)\n",
    "clean_list[0]"
   ]
  },
  {
   "cell_type": "code",
   "execution_count": 47,
   "metadata": {
    "scrolled": false
   },
   "outputs": [
    {
     "data": {
      "text/html": [
       "<div>\n",
       "<style scoped>\n",
       "    .dataframe tbody tr th:only-of-type {\n",
       "        vertical-align: middle;\n",
       "    }\n",
       "\n",
       "    .dataframe tbody tr th {\n",
       "        vertical-align: top;\n",
       "    }\n",
       "\n",
       "    .dataframe thead th {\n",
       "        text-align: right;\n",
       "    }\n",
       "</style>\n",
       "<table border=\"1\" class=\"dataframe\">\n",
       "  <thead>\n",
       "    <tr style=\"text-align: right;\">\n",
       "      <th></th>\n",
       "      <th>LINE_ID</th>\n",
       "      <th>MOVIE_TITLE</th>\n",
       "      <th>MOVIE_LINE_NR</th>\n",
       "      <th>CHARACTER</th>\n",
       "      <th>REPLY_TO_LINE_ID</th>\n",
       "      <th>TEXT</th>\n",
       "    </tr>\n",
       "  </thead>\n",
       "  <tbody>\n",
       "    <tr>\n",
       "      <th>0</th>\n",
       "      <td>0</td>\n",
       "      <td>murderland</td>\n",
       "      <td>1</td>\n",
       "      <td>announcer</td>\n",
       "      <td></td>\n",
       "      <td>Ladies and gentlemen, the official mascot of M...</td>\n",
       "    </tr>\n",
       "    <tr>\n",
       "      <th>1</th>\n",
       "      <td>1</td>\n",
       "      <td>murderland</td>\n",
       "      <td>2</td>\n",
       "      <td>announcer</td>\n",
       "      <td></td>\n",
       "      <td>Choose the doorway that starts you on your mag...</td>\n",
       "    </tr>\n",
       "    <tr>\n",
       "      <th>2</th>\n",
       "      <td>2</td>\n",
       "      <td>murderland</td>\n",
       "      <td>3</td>\n",
       "      <td>johnny</td>\n",
       "      <td></td>\n",
       "      <td>I didn't think he'd make it past Scraps.</td>\n",
       "    </tr>\n",
       "    <tr>\n",
       "      <th>3</th>\n",
       "      <td>3</td>\n",
       "      <td>murderland</td>\n",
       "      <td>4</td>\n",
       "      <td>bruce</td>\n",
       "      <td>2</td>\n",
       "      <td>Let's just see if he can make it into round tw...</td>\n",
       "    </tr>\n",
       "    <tr>\n",
       "      <th>4</th>\n",
       "      <td>4</td>\n",
       "      <td>murderland</td>\n",
       "      <td>5</td>\n",
       "      <td>bruce</td>\n",
       "      <td></td>\n",
       "      <td>Don't.</td>\n",
       "    </tr>\n",
       "  </tbody>\n",
       "</table>\n",
       "</div>"
      ],
      "text/plain": [
       "  LINE_ID MOVIE_TITLE MOVIE_LINE_NR  CHARACTER REPLY_TO_LINE_ID  \\\n",
       "0       0  murderland             1  announcer                    \n",
       "1       1  murderland             2  announcer                    \n",
       "2       2  murderland             3     johnny                    \n",
       "3       3  murderland             4      bruce                2   \n",
       "4       4  murderland             5      bruce                    \n",
       "\n",
       "                                                TEXT  \n",
       "0  Ladies and gentlemen, the official mascot of M...  \n",
       "1  Choose the doorway that starts you on your mag...  \n",
       "2           I didn't think he'd make it past Scraps.  \n",
       "3  Let's just see if he can make it into round tw...  \n",
       "4                                             Don't.  "
      ]
     },
     "execution_count": 47,
     "metadata": {},
     "output_type": "execute_result"
    }
   ],
   "source": [
    "movie_quotes = pd.DataFrame(clean_list, columns=['LINE_ID','MOVIE_TITLE','MOVIE_LINE_NR','CHARACTER','REPLY_TO_LINE_ID','TEXT'])\n",
    "movie_quotes.head()"
   ]
  },
  {
   "cell_type": "markdown",
   "metadata": {},
   "source": [
    "I do not need `LINE_ID`, `MOVIE_LINE_NR`, and `REPLY_TO_LINE_ID` because I am not interested in the order of the dialogue."
   ]
  },
  {
   "cell_type": "code",
   "execution_count": 48,
   "metadata": {},
   "outputs": [],
   "source": [
    "movie_quotes = movie_quotes.drop(['LINE_ID','MOVIE_LINE_NR','REPLY_TO_LINE_ID'],1)"
   ]
  },
  {
   "cell_type": "code",
   "execution_count": 49,
   "metadata": {},
   "outputs": [
    {
     "data": {
      "text/html": [
       "<div>\n",
       "<style scoped>\n",
       "    .dataframe tbody tr th:only-of-type {\n",
       "        vertical-align: middle;\n",
       "    }\n",
       "\n",
       "    .dataframe tbody tr th {\n",
       "        vertical-align: top;\n",
       "    }\n",
       "\n",
       "    .dataframe thead th {\n",
       "        text-align: right;\n",
       "    }\n",
       "</style>\n",
       "<table border=\"1\" class=\"dataframe\">\n",
       "  <thead>\n",
       "    <tr style=\"text-align: right;\">\n",
       "      <th></th>\n",
       "      <th>MOVIE_TITLE</th>\n",
       "      <th>CHARACTER</th>\n",
       "      <th>TEXT</th>\n",
       "    </tr>\n",
       "  </thead>\n",
       "  <tbody>\n",
       "    <tr>\n",
       "      <th>0</th>\n",
       "      <td>murderland</td>\n",
       "      <td>announcer</td>\n",
       "      <td>Ladies and gentlemen, the official mascot of M...</td>\n",
       "    </tr>\n",
       "    <tr>\n",
       "      <th>1</th>\n",
       "      <td>murderland</td>\n",
       "      <td>announcer</td>\n",
       "      <td>Choose the doorway that starts you on your mag...</td>\n",
       "    </tr>\n",
       "    <tr>\n",
       "      <th>2</th>\n",
       "      <td>murderland</td>\n",
       "      <td>johnny</td>\n",
       "      <td>I didn't think he'd make it past Scraps.</td>\n",
       "    </tr>\n",
       "    <tr>\n",
       "      <th>3</th>\n",
       "      <td>murderland</td>\n",
       "      <td>bruce</td>\n",
       "      <td>Let's just see if he can make it into round tw...</td>\n",
       "    </tr>\n",
       "    <tr>\n",
       "      <th>4</th>\n",
       "      <td>murderland</td>\n",
       "      <td>bruce</td>\n",
       "      <td>Don't.</td>\n",
       "    </tr>\n",
       "  </tbody>\n",
       "</table>\n",
       "</div>"
      ],
      "text/plain": [
       "  MOVIE_TITLE  CHARACTER                                               TEXT\n",
       "0  murderland  announcer  Ladies and gentlemen, the official mascot of M...\n",
       "1  murderland  announcer  Choose the doorway that starts you on your mag...\n",
       "2  murderland     johnny           I didn't think he'd make it past Scraps.\n",
       "3  murderland      bruce  Let's just see if he can make it into round tw...\n",
       "4  murderland      bruce                                             Don't."
      ]
     },
     "execution_count": 49,
     "metadata": {},
     "output_type": "execute_result"
    }
   ],
   "source": [
    "movie_quotes.head()"
   ]
  },
  {
   "cell_type": "markdown",
   "metadata": {},
   "source": [
    "#### Grouping all quotes per unique character per movie:"
   ]
  },
  {
   "cell_type": "code",
   "execution_count": 50,
   "metadata": {},
   "outputs": [],
   "source": [
    "movie_quotes = pd.DataFrame(movie_quotes.groupby(['MOVIE_TITLE','CHARACTER'])['TEXT'].agg(lambda line: ' '.join(line)))\n",
    "movie_quotes = movie_quotes.reset_index()\n",
    "movie_quotes.to_csv('../data/movie_quotes_updated.csv', index_label = False)\n"
   ]
  },
  {
   "cell_type": "code",
   "execution_count": 51,
   "metadata": {
    "scrolled": true
   },
   "outputs": [
    {
     "data": {
      "text/html": [
       "<div>\n",
       "<style scoped>\n",
       "    .dataframe tbody tr th:only-of-type {\n",
       "        vertical-align: middle;\n",
       "    }\n",
       "\n",
       "    .dataframe tbody tr th {\n",
       "        vertical-align: top;\n",
       "    }\n",
       "\n",
       "    .dataframe thead th {\n",
       "        text-align: right;\n",
       "    }\n",
       "</style>\n",
       "<table border=\"1\" class=\"dataframe\">\n",
       "  <thead>\n",
       "    <tr style=\"text-align: right;\">\n",
       "      <th></th>\n",
       "      <th>MOVIE_TITLE</th>\n",
       "      <th>CHARACTER</th>\n",
       "      <th>TEXT</th>\n",
       "    </tr>\n",
       "  </thead>\n",
       "  <tbody>\n",
       "    <tr>\n",
       "      <th>0</th>\n",
       "      <td>10 things i hate about you</td>\n",
       "      <td>bartender</td>\n",
       "      <td>What can I get you? You forgot to pay!</td>\n",
       "    </tr>\n",
       "    <tr>\n",
       "      <th>1</th>\n",
       "      <td>10 things i hate about you</td>\n",
       "      <td>bianca</td>\n",
       "      <td>Did you change your hair? You might wanna thin...</td>\n",
       "    </tr>\n",
       "    <tr>\n",
       "      <th>2</th>\n",
       "      <td>10 things i hate about you</td>\n",
       "      <td>bianca and walter</td>\n",
       "      <td>The sound of a fifteen-year-old in labor.</td>\n",
       "    </tr>\n",
       "    <tr>\n",
       "      <th>3</th>\n",
       "      <td>10 things i hate about you</td>\n",
       "      <td>bogey</td>\n",
       "      <td>Nice to see you.  Martini bar to the right, sh...</td>\n",
       "    </tr>\n",
       "    <tr>\n",
       "      <th>4</th>\n",
       "      <td>10 things i hate about you</td>\n",
       "      <td>boy</td>\n",
       "      <td>Hey, Bianca. Pet my kitty!</td>\n",
       "    </tr>\n",
       "  </tbody>\n",
       "</table>\n",
       "</div>"
      ],
      "text/plain": [
       "                  MOVIE_TITLE          CHARACTER  \\\n",
       "0  10 things i hate about you          bartender   \n",
       "1  10 things i hate about you             bianca   \n",
       "2  10 things i hate about you  bianca and walter   \n",
       "3  10 things i hate about you              bogey   \n",
       "4  10 things i hate about you                boy   \n",
       "\n",
       "                                                TEXT  \n",
       "0             What can I get you? You forgot to pay!  \n",
       "1  Did you change your hair? You might wanna thin...  \n",
       "2          The sound of a fifteen-year-old in labor.  \n",
       "3  Nice to see you.  Martini bar to the right, sh...  \n",
       "4                         Hey, Bianca. Pet my kitty!  "
      ]
     },
     "execution_count": 51,
     "metadata": {},
     "output_type": "execute_result"
    }
   ],
   "source": [
    "movie_quotes.head()"
   ]
  },
  {
   "cell_type": "markdown",
   "metadata": {},
   "source": [
    "## Combining Movie Quotes and Dialogue Dataframes"
   ]
  },
  {
   "cell_type": "markdown",
   "metadata": {},
   "source": [
    "Dropping `charName` and `movieID` from the movie dialogue dataframe."
   ]
  },
  {
   "cell_type": "code",
   "execution_count": 52,
   "metadata": {},
   "outputs": [],
   "source": [
    "mov_dialog = mov_dialog.drop(['charID','movieID'],1)"
   ]
  },
  {
   "cell_type": "code",
   "execution_count": 53,
   "metadata": {},
   "outputs": [],
   "source": [
    "mov_dialog['charName'] = mov_dialog['charName'].str.lower()"
   ]
  },
  {
   "cell_type": "markdown",
   "metadata": {},
   "source": [
    "Changing the order of columns for the dialogue dataframe and renaming them."
   ]
  },
  {
   "cell_type": "code",
   "execution_count": 54,
   "metadata": {},
   "outputs": [],
   "source": [
    "mov_dialog = mov_dialog[['movieName','charName','all_lines']]\n",
    "mov_dialog.columns = ['title','character','text']"
   ]
  },
  {
   "cell_type": "code",
   "execution_count": 55,
   "metadata": {},
   "outputs": [
    {
     "data": {
      "text/html": [
       "<div>\n",
       "<style scoped>\n",
       "    .dataframe tbody tr th:only-of-type {\n",
       "        vertical-align: middle;\n",
       "    }\n",
       "\n",
       "    .dataframe tbody tr th {\n",
       "        vertical-align: top;\n",
       "    }\n",
       "\n",
       "    .dataframe thead th {\n",
       "        text-align: right;\n",
       "    }\n",
       "</style>\n",
       "<table border=\"1\" class=\"dataframe\">\n",
       "  <thead>\n",
       "    <tr style=\"text-align: right;\">\n",
       "      <th></th>\n",
       "      <th>title</th>\n",
       "      <th>character</th>\n",
       "      <th>text</th>\n",
       "    </tr>\n",
       "  </thead>\n",
       "  <tbody>\n",
       "    <tr>\n",
       "      <th>0</th>\n",
       "      <td>10 things i hate about you</td>\n",
       "      <td>bianca</td>\n",
       "      <td>They do not! I hope so. Let's go. Okay -- you'...</td>\n",
       "    </tr>\n",
       "    <tr>\n",
       "      <th>1</th>\n",
       "      <td>10 things i hate about you</td>\n",
       "      <td>cameron</td>\n",
       "      <td>They do to! She okay? Wow No The \"real you\". I...</td>\n",
       "    </tr>\n",
       "    <tr>\n",
       "      <th>2</th>\n",
       "      <td>10 things i hate about you</td>\n",
       "      <td>chastity</td>\n",
       "      <td>You think you ' re the only sophomore at the p...</td>\n",
       "    </tr>\n",
       "  </tbody>\n",
       "</table>\n",
       "</div>"
      ],
      "text/plain": [
       "                        title character  \\\n",
       "0  10 things i hate about you    bianca   \n",
       "1  10 things i hate about you   cameron   \n",
       "2  10 things i hate about you  chastity   \n",
       "\n",
       "                                                text  \n",
       "0  They do not! I hope so. Let's go. Okay -- you'...  \n",
       "1  They do to! She okay? Wow No The \"real you\". I...  \n",
       "2  You think you ' re the only sophomore at the p...  "
      ]
     },
     "execution_count": 55,
     "metadata": {},
     "output_type": "execute_result"
    }
   ],
   "source": [
    "mov_dialog.head(3)"
   ]
  },
  {
   "cell_type": "markdown",
   "metadata": {},
   "source": [
    "Renaming the movie quotes dataframe columns."
   ]
  },
  {
   "cell_type": "code",
   "execution_count": 56,
   "metadata": {},
   "outputs": [],
   "source": [
    "movie_quotes.columns = ['title','character','text']"
   ]
  },
  {
   "cell_type": "markdown",
   "metadata": {},
   "source": [
    "Combining the `movie_quotes` and `mov_dialog` dataframes."
   ]
  },
  {
   "cell_type": "code",
   "execution_count": 57,
   "metadata": {},
   "outputs": [],
   "source": [
    "mov_combo = pd.concat([mov_dialog,movie_quotes], \n",
    "                      ignore_index = True)"
   ]
  },
  {
   "cell_type": "code",
   "execution_count": 58,
   "metadata": {},
   "outputs": [
    {
     "data": {
      "text/html": [
       "<div>\n",
       "<style scoped>\n",
       "    .dataframe tbody tr th:only-of-type {\n",
       "        vertical-align: middle;\n",
       "    }\n",
       "\n",
       "    .dataframe tbody tr th {\n",
       "        vertical-align: top;\n",
       "    }\n",
       "\n",
       "    .dataframe thead th {\n",
       "        text-align: right;\n",
       "    }\n",
       "</style>\n",
       "<table border=\"1\" class=\"dataframe\">\n",
       "  <thead>\n",
       "    <tr style=\"text-align: right;\">\n",
       "      <th></th>\n",
       "      <th>title</th>\n",
       "      <th>character</th>\n",
       "      <th>text</th>\n",
       "    </tr>\n",
       "  </thead>\n",
       "  <tbody>\n",
       "    <tr>\n",
       "      <th>0</th>\n",
       "      <td>10 things i hate about you</td>\n",
       "      <td>bianca</td>\n",
       "      <td>They do not! I hope so. Let's go. Okay -- you'...</td>\n",
       "    </tr>\n",
       "    <tr>\n",
       "      <th>1</th>\n",
       "      <td>10 things i hate about you</td>\n",
       "      <td>cameron</td>\n",
       "      <td>They do to! She okay? Wow No The \"real you\". I...</td>\n",
       "    </tr>\n",
       "    <tr>\n",
       "      <th>2</th>\n",
       "      <td>10 things i hate about you</td>\n",
       "      <td>chastity</td>\n",
       "      <td>You think you ' re the only sophomore at the p...</td>\n",
       "    </tr>\n",
       "    <tr>\n",
       "      <th>3</th>\n",
       "      <td>10 things i hate about you</td>\n",
       "      <td>joey</td>\n",
       "      <td>Listen, I want to talk to you about the prom. ...</td>\n",
       "    </tr>\n",
       "    <tr>\n",
       "      <th>4</th>\n",
       "      <td>10 things i hate about you</td>\n",
       "      <td>kat</td>\n",
       "      <td>Perm? It's just you. What? To completely damag...</td>\n",
       "    </tr>\n",
       "  </tbody>\n",
       "</table>\n",
       "</div>"
      ],
      "text/plain": [
       "                        title character  \\\n",
       "0  10 things i hate about you    bianca   \n",
       "1  10 things i hate about you   cameron   \n",
       "2  10 things i hate about you  chastity   \n",
       "3  10 things i hate about you      joey   \n",
       "4  10 things i hate about you       kat   \n",
       "\n",
       "                                                text  \n",
       "0  They do not! I hope so. Let's go. Okay -- you'...  \n",
       "1  They do to! She okay? Wow No The \"real you\". I...  \n",
       "2  You think you ' re the only sophomore at the p...  \n",
       "3  Listen, I want to talk to you about the prom. ...  \n",
       "4  Perm? It's just you. What? To completely damag...  "
      ]
     },
     "execution_count": 58,
     "metadata": {},
     "output_type": "execute_result"
    }
   ],
   "source": [
    "mov_combo.head()"
   ]
  },
  {
   "cell_type": "markdown",
   "metadata": {},
   "source": [
    "Tokenizing the `text` column to create a `token_text` column.\n",
    "\n"
   ]
  },
  {
   "cell_type": "code",
   "execution_count": 59,
   "metadata": {},
   "outputs": [],
   "source": [
    "tokenizer = RegexpTokenizer(r'[A-Za-z]+')"
   ]
  },
  {
   "cell_type": "code",
   "execution_count": 60,
   "metadata": {},
   "outputs": [],
   "source": [
    "mov_combo['tokenized_text'] = mov_combo['text'].map(lambda x: tokenizer.tokenize(x))"
   ]
  },
  {
   "cell_type": "markdown",
   "metadata": {},
   "source": [
    "I will use the `token_text` column in order to create a `word_count` column."
   ]
  },
  {
   "cell_type": "code",
   "execution_count": 61,
   "metadata": {},
   "outputs": [],
   "source": [
    "mov_combo['word_count'] = mov_combo['tokenized_text'].map(lambda x: len(x))"
   ]
  },
  {
   "cell_type": "markdown",
   "metadata": {},
   "source": [
    "I will remove each movie's duplicate characters because there are overlaps between the dialogue and quotes corpus dataframes. \n",
    "\n",
    "For example, assume there is a unique character, 'Jim Bob', that appears in both corpora. If Jim Bob has 100 words in his lines in the quotes dataframe and 150 in the dialogue dataframe, I will drop the observation with the fewer word count."
   ]
  },
  {
   "cell_type": "code",
   "execution_count": 62,
   "metadata": {},
   "outputs": [
    {
     "data": {
      "text/html": [
       "<div>\n",
       "<style scoped>\n",
       "    .dataframe tbody tr th:only-of-type {\n",
       "        vertical-align: middle;\n",
       "    }\n",
       "\n",
       "    .dataframe tbody tr th {\n",
       "        vertical-align: top;\n",
       "    }\n",
       "\n",
       "    .dataframe thead th {\n",
       "        text-align: right;\n",
       "    }\n",
       "</style>\n",
       "<table border=\"1\" class=\"dataframe\">\n",
       "  <thead>\n",
       "    <tr style=\"text-align: right;\">\n",
       "      <th></th>\n",
       "      <th>title</th>\n",
       "      <th>character</th>\n",
       "      <th>text</th>\n",
       "      <th>tokenized_text</th>\n",
       "      <th>word_count</th>\n",
       "    </tr>\n",
       "  </thead>\n",
       "  <tbody>\n",
       "    <tr>\n",
       "      <th>0</th>\n",
       "      <td>10 things i hate about you</td>\n",
       "      <td>bartender</td>\n",
       "      <td>What can I get you? You forgot to pay!</td>\n",
       "      <td>[What, can, I, get, you, You, forgot, to, pay]</td>\n",
       "      <td>9</td>\n",
       "    </tr>\n",
       "    <tr>\n",
       "      <th>1</th>\n",
       "      <td>10 things i hate about you</td>\n",
       "      <td>bianca</td>\n",
       "      <td>Did you change your hair? You might wanna thin...</td>\n",
       "      <td>[Did, you, change, your, hair, You, might, wan...</td>\n",
       "      <td>1295</td>\n",
       "    </tr>\n",
       "    <tr>\n",
       "      <th>2</th>\n",
       "      <td>10 things i hate about you</td>\n",
       "      <td>bianca</td>\n",
       "      <td>They do not! I hope so. Let's go. Okay -- you'...</td>\n",
       "      <td>[They, do, not, I, hope, so, Let, s, go, Okay,...</td>\n",
       "      <td>1015</td>\n",
       "    </tr>\n",
       "    <tr>\n",
       "      <th>3</th>\n",
       "      <td>10 things i hate about you</td>\n",
       "      <td>bianca and walter</td>\n",
       "      <td>The sound of a fifteen-year-old in labor.</td>\n",
       "      <td>[The, sound, of, a, fifteen, year, old, in, la...</td>\n",
       "      <td>9</td>\n",
       "    </tr>\n",
       "    <tr>\n",
       "      <th>4</th>\n",
       "      <td>10 things i hate about you</td>\n",
       "      <td>bogey</td>\n",
       "      <td>Nice to see you.  Martini bar to the right, sh...</td>\n",
       "      <td>[Nice, to, see, you, Martini, bar, to, the, ri...</td>\n",
       "      <td>13</td>\n",
       "    </tr>\n",
       "  </tbody>\n",
       "</table>\n",
       "</div>"
      ],
      "text/plain": [
       "                        title          character  \\\n",
       "0  10 things i hate about you          bartender   \n",
       "1  10 things i hate about you             bianca   \n",
       "2  10 things i hate about you             bianca   \n",
       "3  10 things i hate about you  bianca and walter   \n",
       "4  10 things i hate about you              bogey   \n",
       "\n",
       "                                                text  \\\n",
       "0             What can I get you? You forgot to pay!   \n",
       "1  Did you change your hair? You might wanna thin...   \n",
       "2  They do not! I hope so. Let's go. Okay -- you'...   \n",
       "3          The sound of a fifteen-year-old in labor.   \n",
       "4  Nice to see you.  Martini bar to the right, sh...   \n",
       "\n",
       "                                      tokenized_text  word_count  \n",
       "0     [What, can, I, get, you, You, forgot, to, pay]           9  \n",
       "1  [Did, you, change, your, hair, You, might, wan...        1295  \n",
       "2  [They, do, not, I, hope, so, Let, s, go, Okay,...        1015  \n",
       "3  [The, sound, of, a, fifteen, year, old, in, la...           9  \n",
       "4  [Nice, to, see, you, Martini, bar, to, the, ri...          13  "
      ]
     },
     "execution_count": 62,
     "metadata": {},
     "output_type": "execute_result"
    }
   ],
   "source": [
    "mov_combo = mov_combo.sort_values('word_count', ascending = False)\n",
    "mov_combo = mov_combo.sort_values(['title','character'])\n",
    "mov_combo.reset_index(drop=True,inplace=True)\n",
    "mov_combo.head()"
   ]
  },
  {
   "cell_type": "markdown",
   "metadata": {},
   "source": [
    "The following variable returns unique characters per movie with the higher word count."
   ]
  },
  {
   "cell_type": "code",
   "execution_count": 63,
   "metadata": {},
   "outputs": [],
   "source": [
    "unique_character = list(mov_combo[['title','character']].drop_duplicates().index)"
   ]
  },
  {
   "cell_type": "markdown",
   "metadata": {},
   "source": [
    "There are 1737 duplicate characters that must be removed:"
   ]
  },
  {
   "cell_type": "code",
   "execution_count": 64,
   "metadata": {},
   "outputs": [
    {
     "data": {
      "text/plain": [
       "1737"
      ]
     },
     "execution_count": 64,
     "metadata": {},
     "output_type": "execute_result"
    }
   ],
   "source": [
    "duplicate_characters = len(mov_combo) - len(mov_combo.loc[unique_character, :])\n",
    "duplicate_characters"
   ]
  },
  {
   "cell_type": "code",
   "execution_count": 65,
   "metadata": {},
   "outputs": [],
   "source": [
    "mov_combo = mov_combo.loc[unique_character, :]\n",
    "mov_combo.reset_index(drop=True,inplace=True)"
   ]
  },
  {
   "cell_type": "markdown",
   "metadata": {},
   "source": [
    "Removing non alpha numeric characters in the `character` names. "
   ]
  },
  {
   "cell_type": "code",
   "execution_count": 66,
   "metadata": {},
   "outputs": [],
   "source": [
    "mov_combo['character'] = mov_combo['character'].map(lambda x: re.sub('[^A-Za-z]+',' ', x))"
   ]
  },
  {
   "cell_type": "markdown",
   "metadata": {},
   "source": [
    "## VADER Sentiment Analysis\n",
    "\n",
    "I will utilize VADER's sentiment analysis to examine the positive, negative, and neutral weights of each character's movie lines. \n",
    "\n",
    "The Sentiment Intensity Analyzer (SIA) returns 4 sentiment metrics:\n",
    "\n",
    "- compound - ranges between -1 to +1, from most extreme negative to most extreme positive\n",
    "- positive - a percentage rating of how positive a post is\n",
    "- neutral - a percentage rating of how neutral a post is\n",
    "- negative - a percentage rating of how negative a post is\n",
    "\n",
    "The purpose of the SIA is to use the sentiment of each post as an additional feature when implementing the movie character recommendation."
   ]
  },
  {
   "cell_type": "code",
   "execution_count": 67,
   "metadata": {},
   "outputs": [],
   "source": [
    "sia = SentimentIntensityAnalyzer()"
   ]
  },
  {
   "cell_type": "code",
   "execution_count": 68,
   "metadata": {},
   "outputs": [],
   "source": [
    "# Long process\n",
    "mov_combo['vader'] = mov_combo['text'].map(lambda x: sia.polarity_scores(x))"
   ]
  },
  {
   "cell_type": "markdown",
   "metadata": {},
   "source": [
    "Changing object types to string values:"
   ]
  },
  {
   "cell_type": "code",
   "execution_count": 69,
   "metadata": {},
   "outputs": [
    {
     "data": {
      "text/plain": [
       "title             object\n",
       "character         object\n",
       "text              object\n",
       "tokenized_text    object\n",
       "word_count         int64\n",
       "vader             object\n",
       "dtype: object"
      ]
     },
     "execution_count": 69,
     "metadata": {},
     "output_type": "execute_result"
    }
   ],
   "source": [
    "mov_combo.dtypes"
   ]
  },
  {
   "cell_type": "code",
   "execution_count": 70,
   "metadata": {},
   "outputs": [],
   "source": [
    "mov_combo['title'] = mov_combo['title'].astype(str)\n",
    "mov_combo['character'] = mov_combo['character'].astype(str)\n",
    "mov_combo['text'] = mov_combo['text'].astype(str)"
   ]
  },
  {
   "cell_type": "code",
   "execution_count": 71,
   "metadata": {},
   "outputs": [
    {
     "data": {
      "text/plain": [
       "title             object\n",
       "character         object\n",
       "text              object\n",
       "tokenized_text    object\n",
       "word_count         int64\n",
       "vader             object\n",
       "dtype: object"
      ]
     },
     "execution_count": 71,
     "metadata": {},
     "output_type": "execute_result"
    }
   ],
   "source": [
    "mov_combo.dtypes"
   ]
  },
  {
   "cell_type": "markdown",
   "metadata": {},
   "source": [
    "Saving file as a pickle to preserve column datatypes."
   ]
  },
  {
   "cell_type": "code",
   "execution_count": 72,
   "metadata": {},
   "outputs": [],
   "source": [
    "mov_combo.to_pickle('../data/mov_combo.pkl')"
   ]
  },
  {
   "cell_type": "markdown",
   "metadata": {},
   "source": [
    "# Proceed to Notebook 2: Data Scraping\n",
    "\n",
    "The current movie combo dataframe has the title, character, text, tokenized_text, word count, and vader sentiment analysis scores. In order to have the proper IMDb movie titles and genres, I am going to scrape the IMDb website in the following notebook."
   ]
  }
 ],
 "metadata": {
  "kernelspec": {
   "display_name": "Python 3",
   "language": "python",
   "name": "python3"
  },
  "language_info": {
   "codemirror_mode": {
    "name": "ipython",
    "version": 3
   },
   "file_extension": ".py",
   "mimetype": "text/x-python",
   "name": "python",
   "nbconvert_exporter": "python",
   "pygments_lexer": "ipython3",
   "version": "3.6.8"
  }
 },
 "nbformat": 4,
 "nbformat_minor": 2
}
